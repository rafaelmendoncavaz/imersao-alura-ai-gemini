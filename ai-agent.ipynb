{
 "cells": [
  {
   "cell_type": "code",
   "execution_count": null,
   "id": "33b8889f",
   "metadata": {},
   "outputs": [],
   "source": [
    "%pip install google-genai\n",
    "%pip install python-dotenv"
   ]
  },
  {
   "cell_type": "code",
   "execution_count": null,
   "id": "28fed002",
   "metadata": {},
   "outputs": [],
   "source": [
    "import os\n",
    "from dotenv import load_dotenv\n",
    "\n",
    "load_dotenv()\n",
    "\n",
    "# Carrega a API_KEY (insira no arquivo .env)\n",
    "GEMINI_API = os.environ.get(\"API_KEY\")"
   ]
  },
  {
   "cell_type": "code",
   "execution_count": null,
   "id": "33dd3978",
   "metadata": {},
   "outputs": [],
   "source": [
    "from google import genai\n",
    "\n",
    "# Gera o cliente\n",
    "client = genai.Client(api_key=GEMINI_API)\n",
    "\n",
    "# Gera o modelo\n",
    "model = \"gemini-2.0-flash\"\n",
    "\n",
    "# Lista os modelos disponiveis\n",
    "for model in client.models.list():\n",
    "    print(model.name)\n",
    "    print(model.description)"
   ]
  },
  {
   "cell_type": "code",
   "execution_count": null,
   "id": "837f644b",
   "metadata": {},
   "outputs": [],
   "source": [
    "response = client.models.generate_content(model=model, contents=\"Quem foi Dennis Ritchie?\")\n",
    "print(response.text)"
   ]
  },
  {
   "cell_type": "code",
   "execution_count": null,
   "id": "15594532",
   "metadata": {},
   "outputs": [],
   "source": [
    "chat = client.chats.create(model=model)\n",
    "response = chat.send_message(\"Quem foi Dennis Ritchie?\")\n",
    "print(response.text)"
   ]
  },
  {
   "cell_type": "code",
   "execution_count": null,
   "id": "57aa8efe",
   "metadata": {},
   "outputs": [],
   "source": [
    "from google.genai import types\n",
    "\n",
    "chat_config = types.GenerateContentConfig(\n",
    "    system_instruction=\"Você é um assistente de RH com foco em recrutamento e seleção. Você deve analisar currículos e filtrá-los de acordo com as vagas as quais os candidatos estão aplicando.\"\n",
    ")\n",
    "\n",
    "chat = client.chats.create(model=model, config=chat_config)"
   ]
  },
  {
   "cell_type": "code",
   "execution_count": null,
   "id": "d83fefb6",
   "metadata": {},
   "outputs": [],
   "source": [
    "prompt = input(\"Esperando prompt: \")\n",
    "\n",
    "while prompt != \"encerrar\":\n",
    "    response = chat.send_message(prompt)\n",
    "    print(\"Resposta: \", response.text)\n",
    "    print(\"\\n\\n\")\n",
    "    prompt = input(\"Esperando prompt: \")\n"
   ]
  },
  {
   "cell_type": "code",
   "execution_count": null,
   "id": "2e69aef6",
   "metadata": {},
   "outputs": [],
   "source": []
  }
 ],
 "metadata": {
  "kernelspec": {
   "display_name": ".venv",
   "language": "python",
   "name": "python3"
  },
  "language_info": {
   "codemirror_mode": {
    "name": "ipython",
    "version": 3
   },
   "file_extension": ".py",
   "mimetype": "text/x-python",
   "name": "python",
   "nbconvert_exporter": "python",
   "pygments_lexer": "ipython3",
   "version": "3.12.3"
  }
 },
 "nbformat": 4,
 "nbformat_minor": 5
}
